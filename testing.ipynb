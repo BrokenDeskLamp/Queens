{
 "cells": [
  {
   "cell_type": "code",
   "execution_count": 1,
   "metadata": {},
   "outputs": [],
   "source": [
    "from board import Board\n",
    "from placement import generate_queen_positions\n",
    "from scorer import Scorer\n",
    "from colour import ColourSpread\n",
    "from visualisation import display_board\n",
    "\n",
    "def main(n):\n",
    "    \"\"\"Generate, fill, and evaluate an N x N board.\"\"\"\n",
    "    boards = []\n",
    "    for i in range(100):\n",
    "        if i % 10 == 0:\n",
    "            print(f\"Generating board {i}...\")\n",
    "        board = Board(n)\n",
    "        queen_positions = generate_queen_positions(n)\n",
    "        board.place_queens(queen_positions)\n",
    "        board.spread_colours(ColourSpread.random_spread)\n",
    "\n",
    "        score = Scorer.evaluate_board_fast(board)\n",
    "        boards.append((board, score))\n",
    "\n",
    "    return sorted(boards, key=lambda x: x[1])"
   ]
  },
  {
   "cell_type": "code",
   "execution_count": 7,
   "metadata": {},
   "outputs": [
    {
     "name": "stdout",
     "output_type": "stream",
     "text": [
      "Generating board 0...\n",
      "Generating board 10...\n",
      "Generating board 20...\n",
      "Generating board 30...\n",
      "Generating board 40...\n",
      "Generating board 50...\n",
      "Generating board 60...\n",
      "Generating board 70...\n",
      "Generating board 80...\n",
      "Generating board 90...\n"
     ]
    }
   ],
   "source": [
    "sorted_boards = main(6)"
   ]
  },
  {
   "cell_type": "code",
   "execution_count": 8,
   "metadata": {},
   "outputs": [
    {
     "data": {
      "text/plain": [
       "[(<board.Board at 0x18e33f0bb30>, 1),\n",
       " (<board.Board at 0x18e3404c710>, 1),\n",
       " (<board.Board at 0x18e3404d370>, 1),\n",
       " (<board.Board at 0x18e3404e660>, 1),\n",
       " (<board.Board at 0x18e3404eea0>, 1),\n",
       " (<board.Board at 0x18e34069250>, 1),\n",
       " (<board.Board at 0x18e34091430>, 1),\n",
       " (<board.Board at 0x18e340930e0>, 1),\n",
       " (<board.Board at 0x18e34093ef0>, 1),\n",
       " (<board.Board at 0x18e33efff50>, 2),\n",
       " (<board.Board at 0x18e33f3ea50>, 2),\n",
       " (<board.Board at 0x18e33f0bef0>, 2),\n",
       " (<board.Board at 0x18e33f0b980>, 2),\n",
       " (<board.Board at 0x18e33f0bc20>, 2),\n",
       " (<board.Board at 0x18e33f08b30>, 2),\n",
       " (<board.Board at 0x18e33f09ee0>, 2),\n",
       " (<board.Board at 0x18e33f0ad20>, 2),\n",
       " (<board.Board at 0x18e33f0aa50>, 2),\n",
       " (<board.Board at 0x18e33f0ac90>, 2),\n",
       " (<board.Board at 0x18e33f0b500>, 2),\n",
       " (<board.Board at 0x18e33f0b800>, 2),\n",
       " (<board.Board at 0x18e33f0a570>, 2),\n",
       " (<board.Board at 0x18e3404f6b0>, 2),\n",
       " (<board.Board at 0x18e3404f0b0>, 2),\n",
       " (<board.Board at 0x18e3404c320>, 2),\n",
       " (<board.Board at 0x18e3404c770>, 2),\n",
       " (<board.Board at 0x18e3404cc50>, 2),\n",
       " (<board.Board at 0x18e3404d010>, 2),\n",
       " (<board.Board at 0x18e3404d5e0>, 2),\n",
       " (<board.Board at 0x18e3404ce90>, 2),\n",
       " (<board.Board at 0x18e3404c9e0>, 2),\n",
       " (<board.Board at 0x18e3404dd90>, 2),\n",
       " (<board.Board at 0x18e3404e090>, 2),\n",
       " (<board.Board at 0x18e3404e1e0>, 2),\n",
       " (<board.Board at 0x18e3404e810>, 2),\n",
       " (<board.Board at 0x18e3404eab0>, 2),\n",
       " (<board.Board at 0x18e3404efc0>, 2),\n",
       " (<board.Board at 0x18e3404f440>, 2),\n",
       " (<board.Board at 0x18e3404f710>, 2),\n",
       " (<board.Board at 0x18e3404f380>, 2),\n",
       " (<board.Board at 0x18e3404fe30>, 2),\n",
       " (<board.Board at 0x18e34068140>, 2),\n",
       " (<board.Board at 0x18e34068230>, 2),\n",
       " (<board.Board at 0x18e340687d0>, 2),\n",
       " (<board.Board at 0x18e34068b30>, 2),\n",
       " (<board.Board at 0x18e34069070>, 2),\n",
       " (<board.Board at 0x18e340693a0>, 2),\n",
       " (<board.Board at 0x18e34069850>, 2),\n",
       " (<board.Board at 0x18e340699d0>, 2),\n",
       " (<board.Board at 0x18e34069e50>, 2),\n",
       " (<board.Board at 0x18e34069f40>, 2),\n",
       " (<board.Board at 0x18e3406a270>, 2),\n",
       " (<board.Board at 0x18e3406a600>, 2),\n",
       " (<board.Board at 0x18e34069b80>, 2),\n",
       " (<board.Board at 0x18e3406ae40>, 2),\n",
       " (<board.Board at 0x18e3406aed0>, 2),\n",
       " (<board.Board at 0x18e3406b200>, 2),\n",
       " (<board.Board at 0x18e3406baa0>, 2),\n",
       " (<board.Board at 0x18e3406bda0>, 2),\n",
       " (<board.Board at 0x18e3406b770>, 2),\n",
       " (<board.Board at 0x18e3406be30>, 2),\n",
       " (<board.Board at 0x18e3406bfe0>, 2),\n",
       " (<board.Board at 0x18e340905c0>, 2),\n",
       " (<board.Board at 0x18e34090230>, 2),\n",
       " (<board.Board at 0x18e34090770>, 2),\n",
       " (<board.Board at 0x18e34090b90>, 2),\n",
       " (<board.Board at 0x18e34090ef0>, 2),\n",
       " (<board.Board at 0x18e340910a0>, 2),\n",
       " (<board.Board at 0x18e3406bad0>, 2),\n",
       " (<board.Board at 0x18e340916a0>, 2),\n",
       " (<board.Board at 0x18e3406a930>, 2),\n",
       " (<board.Board at 0x18e3406aae0>, 2),\n",
       " (<board.Board at 0x18e34092210>, 2),\n",
       " (<board.Board at 0x18e340924b0>, 2),\n",
       " (<board.Board at 0x18e3406ade0>, 2),\n",
       " (<board.Board at 0x18e34092c60>, 2),\n",
       " (<board.Board at 0x18e34092d20>, 2),\n",
       " (<board.Board at 0x18e34092a50>, 2),\n",
       " (<board.Board at 0x18e34093350>, 2),\n",
       " (<board.Board at 0x18e31fa1c10>, 2),\n",
       " (<board.Board at 0x18e1bb324b0>, 2),\n",
       " (<board.Board at 0x18e33f0a630>, 2),\n",
       " (<board.Board at 0x18e33f088f0>, 2),\n",
       " (<board.Board at 0x18e33f08650>, 2),\n",
       " (<board.Board at 0x18e33f083b0>, 2),\n",
       " (<board.Board at 0x18e33f08110>, 2),\n",
       " (<board.Board at 0x18e33f18620>, 2),\n",
       " (<board.Board at 0x18e34093680>, 2),\n",
       " (<board.Board at 0x18e34093bc0>, 2),\n",
       " (<board.Board at 0x18e34094230>, 2),\n",
       " (<board.Board at 0x18e34094050>, 2),\n",
       " (<board.Board at 0x18e34094710>, 2),\n",
       " (<board.Board at 0x18e34094950>, 2),\n",
       " (<board.Board at 0x18e34094cb0>, 2),\n",
       " (<board.Board at 0x18e34094f50>, 2),\n",
       " (<board.Board at 0x18e340951f0>, 2),\n",
       " (<board.Board at 0x18e340954f0>, 2),\n",
       " (<board.Board at 0x18e340957c0>, 2),\n",
       " (<board.Board at 0x18e34095a90>, 2),\n",
       " (<board.Board at 0x18e34095d30>, 2)]"
      ]
     },
     "execution_count": 8,
     "metadata": {},
     "output_type": "execute_result"
    }
   ],
   "source": [
    "sorted_boards"
   ]
  },
  {
   "cell_type": "code",
   "execution_count": 9,
   "metadata": {},
   "outputs": [
    {
     "data": {
      "image/png": "[encoded data removed]",
      "text/plain": [
       "<Figure size 800x800 with 1 Axes>"
      ]
     },
     "metadata": {},
     "output_type": "display_data"
    }
   ],
   "source": [
    "display_board(sorted_boards[0][0].grid)"
   ]
  },
  {
   "cell_type": "code",
   "execution_count": 10,
   "metadata": {},
   "outputs": [],
   "source": [
    "test = sorted_boards[0][0]"
   ]
  },
  {
   "cell_type": "code",
   "execution_count": 15,
   "metadata": {},
   "outputs": [],
   "source": [
    "from board import Board\n",
    "import numpy as np"
   ]
  },
  {
   "cell_type": "code",
   "execution_count": null,
   "metadata": {},
   "outputs": [
    {
     "data": {
      "text/plain": [
       "True"
      ]
     },
     "execution_count": 16,
     "metadata": {},
     "output_type": "execute_result"
    }
   ],
   "source": [
    "def _backtrack(queens_placement: np.ndarray, grid: np.ndarray, found_sols: np.ndarray, row: int) -> True:\n",
    "    n = queens_placement.shape[0]\n",
    "    if row >= n:\n",
    "        found_sols.append(queens_placement.copy())\n",
    "        return len(found_sols) > 1\n",
    "\n",
    "    for col in range(n):\n",
    "        if _is_valid_placement(queens_placement, grid, found_sols, row, col):\n",
    "            queens_placement[row][col] = 1\n",
    "            if _backtrack(queens_placement, grid, found_sols, row + 1):\n",
    "                return True\n",
    "            queens_placement[row][col] = 0\n",
    "    return False\n",
    "\n",
    "\n",
    "def _is_valid_placement(queens_placement: np.ndarray, grid: np.ndarray, row: int, col: int) -> bool:\n",
    "    colour = grid[row][col]\n",
    "    check_colour = np.sum([queens_placement[i][j] for i, j in zip(*np.where(grid == colour))]) == 0\n",
    "\n",
    "    check_queens = not (\n",
    "        queens_placement[max(row - 1, 0) : row + 2, max(col - 1, 0) : col + 2].any()\n",
    "        or queens_placement[row].any()\n",
    "        or queens_placement[:, col].any()\n",
    "    )\n",
    "\n",
    "    return check_colour and check_queens\n",
    "\n",
    "\n",
    "def unique_solution(queens_board: Board) -> np.array:\n",
    "    queens_placement = np.zeros((queens_board.n, queens_board.n), dtype=int)\n",
    "    known_solution = np.zeros((queens_board.n, queens_board.n), dtype=int)\n",
    "    for queen in queens_board.queens:\n",
    "        known_solution[queen.x, queen.y] = 1\n",
    "    grid = queens_board.grid.copy()\n",
    "    # found_sols = [known_solution]\n",
    "    found_sols = []\n",
    "    found = _backtrack(queens_placement, grid, found_sols, 0)\n",
    "    return not found\n",
    "\n",
    "unique_solution(test)\n"
   ]
  },
  {
   "cell_type": "code",
   "execution_count": 13,
   "metadata": {},
   "outputs": [
    {
     "data": {
      "text/plain": [
       "[]"
      ]
     },
     "execution_count": 13,
     "metadata": {},
     "output_type": "execute_result"
    }
   ],
   "source": [
    "from board import Board\n",
    "import numpy as np\n",
    "\n",
    "def _backtrack(queens_placement: np.ndarray, grid: np.ndarray, known_solution: np.ndarray, row: int, found_solutions: list) -> bool:\n",
    "    n = queens_placement.shape[0]\n",
    "    if row >= n:\n",
    "        found_solutions.append(queens_placement.copy())\n",
    "        return len(found_solutions) > 1\n",
    "\n",
    "    for col in range(n):\n",
    "        if _is_valid_placement(queens_placement, grid, known_solution, row, col):\n",
    "            queens_placement[row][col] = 1\n",
    "            if _backtrack(queens_placement, grid, known_solution, row + 1, found_solutions):\n",
    "                return True\n",
    "            queens_placement[row][col] = 0\n",
    "    return False\n",
    "\n",
    "def _is_valid_placement(queens_placement: np.ndarray, grid: np.ndarray, known_solution: np.ndarray, row: int, col: int) -> bool:\n",
    "    colour = grid[row][col]\n",
    "    check_colour = np.sum([queens_placement[i][j] for i, j in zip(*np.where(grid == colour))]) == 0\n",
    "\n",
    "    check_queens = not (\n",
    "        queens_placement[max(row - 1, 0) : row + 2, max(col - 1, 0) : col + 2].any()\n",
    "        or queens_placement[row].any()\n",
    "        or queens_placement[:, col].any()\n",
    "    )\n",
    "\n",
    "    new_placement = queens_placement.copy()\n",
    "    new_placement[row][col] = 1\n",
    "    check_not_known = not np.array_equal(new_placement, known_solution)\n",
    "\n",
    "    return check_colour and check_queens and check_not_known\n",
    "\n",
    "def unique_solution(queens_board: Board) -> bool:\n",
    "    queens_placement = np.zeros((queens_board.n, queens_board.n), dtype=int)\n",
    "    known_solution = np.zeros((queens_board.n, queens_board.n), dtype=int)\n",
    "    for queen in queens_board.queens:\n",
    "        known_solution[queen.x, queen.y] = 1\n",
    "    grid = queens_board.grid.copy()\n",
    "    found_solutions = []\n",
    "    _backtrack(queens_placement, grid, known_solution, 0, found_solutions)\n",
    "    return found_solutions\n",
    "\n",
    "\n",
    "unique_solution(test)"
   ]
  },
  {
   "cell_type": "code",
   "execution_count": 11,
   "metadata": {},
   "outputs": [
    {
     "data": {
      "text/plain": [
       "array([[6, 1, 1, 1, 5, 5],\n",
       "       [6, 6, 5, 3, 5, 5],\n",
       "       [6, 6, 5, 5, 5, 5],\n",
       "       [6, 6, 5, 2, 2, 5],\n",
       "       [6, 6, 6, 4, 2, 2],\n",
       "       [6, 4, 4, 4, 2, 2]])"
      ]
     },
     "execution_count": 11,
     "metadata": {},
     "output_type": "execute_result"
    }
   ],
   "source": [
    "test.grid"
   ]
  },
  {
   "cell_type": "code",
   "execution_count": 135,
   "metadata": {},
   "outputs": [
    {
     "data": {
      "text/plain": [
       "[(<board.Board at 0x236fc44d9a0>, 1),\n",
       " (<board.Board at 0x236fc44ede0>, 1),\n",
       " (<board.Board at 0x236fc456ea0>, 1),\n",
       " (<board.Board at 0x236fc33b080>, 2),\n",
       " (<board.Board at 0x236fc3a04d0>, 2),\n",
       " (<board.Board at 0x236fc471550>, 2),\n",
       " (<board.Board at 0x236fc421220>, 2),\n",
       " (<board.Board at 0x236fc469400>, 2),\n",
       " (<board.Board at 0x236fc456c60>, 2),\n",
       " (<board.Board at 0x236fc456060>, 2),\n",
       " (<board.Board at 0x236fc4557c0>, 2),\n",
       " (<board.Board at 0x236fc41aba0>, 2),\n",
       " (<board.Board at 0x236fc476840>, 2),\n",
       " (<board.Board at 0x236fc3f59d0>, 2),\n",
       " (<board.Board at 0x236fc4541d0>, 2),\n",
       " (<board.Board at 0x236fc474800>, 2),\n",
       " (<board.Board at 0x236fc474b90>, 2),\n",
       " (<board.Board at 0x236fb2dfe00>, 2),\n",
       " (<board.Board at 0x236fc456630>, 2),\n",
       " (<board.Board at 0x236fc476d80>, 2),\n",
       " (<board.Board at 0x236fc457fb0>, 2),\n",
       " (<board.Board at 0x236fc474da0>, 2),\n",
       " (<board.Board at 0x236fc476030>, 2),\n",
       " (<board.Board at 0x236fc477620>, 2),\n",
       " (<board.Board at 0x236fc4770b0>, 2),\n",
       " (<board.Board at 0x236fc455e20>, 2),\n",
       " (<board.Board at 0x236fc457bf0>, 2),\n",
       " (<board.Board at 0x236fc4aac60>, 2),\n",
       " (<board.Board at 0x236fc457dd0>, 2),\n",
       " (<board.Board at 0x236fc455130>, 2),\n",
       " (<board.Board at 0x236fc455fd0>, 2),\n",
       " (<board.Board at 0x236fc454a70>, 2),\n",
       " (<board.Board at 0x236fc45f260>, 2),\n",
       " (<board.Board at 0x236fc475d60>, 2),\n",
       " (<board.Board at 0x236fc407c80>, 2),\n",
       " (<board.Board at 0x236fc404050>, 2),\n",
       " (<board.Board at 0x236fc474110>, 2),\n",
       " (<board.Board at 0x236fc4069c0>, 2),\n",
       " (<board.Board at 0x236fc476e10>, 2),\n",
       " (<board.Board at 0x236fc406690>, 2),\n",
       " (<board.Board at 0x236fc404110>, 2),\n",
       " (<board.Board at 0x236fc406fc0>, 2),\n",
       " (<board.Board at 0x236fc406570>, 2),\n",
       " (<board.Board at 0x236fc3f63c0>, 2),\n",
       " (<board.Board at 0x236fc4044a0>, 2),\n",
       " (<board.Board at 0x236fc407da0>, 2),\n",
       " (<board.Board at 0x236fc407290>, 2),\n",
       " (<board.Board at 0x236fc3f6480>, 2),\n",
       " (<board.Board at 0x236fc4046e0>, 2),\n",
       " (<board.Board at 0x236fc407620>, 2),\n",
       " (<board.Board at 0x236fc405f70>, 2),\n",
       " (<board.Board at 0x236fc4767b0>, 2),\n",
       " (<board.Board at 0x236fc44d340>, 2),\n",
       " (<board.Board at 0x236fc44caa0>, 2),\n",
       " (<board.Board at 0x236fc4602c0>, 2),\n",
       " (<board.Board at 0x236fc454140>, 2),\n",
       " (<board.Board at 0x236fc44c500>, 2),\n",
       " (<board.Board at 0x236fc477170>, 2),\n",
       " (<board.Board at 0x236fc44c2f0>, 2),\n",
       " (<board.Board at 0x236fc44c9e0>, 2),\n",
       " (<board.Board at 0x236fc44e390>, 2),\n",
       " (<board.Board at 0x236fc44e450>, 2),\n",
       " (<board.Board at 0x236fc44eea0>, 2),\n",
       " (<board.Board at 0x236fc44ec60>, 2),\n",
       " (<board.Board at 0x236fc44ea80>, 2),\n",
       " (<board.Board at 0x236fc3da3c0>, 2),\n",
       " (<board.Board at 0x236fc44f290>, 2),\n",
       " (<board.Board at 0x236fc44de80>, 2),\n",
       " (<board.Board at 0x236fc44e960>, 2),\n",
       " (<board.Board at 0x236fc44d550>, 2),\n",
       " (<board.Board at 0x236fc44c830>, 2),\n",
       " (<board.Board at 0x236fc4154c0>, 2),\n",
       " (<board.Board at 0x236fc404200>, 2),\n",
       " (<board.Board at 0x236fc405130>, 2),\n",
       " (<board.Board at 0x236fc455b50>, 2),\n",
       " (<board.Board at 0x236fc455760>, 2),\n",
       " (<board.Board at 0x236fc44c3b0>, 2),\n",
       " (<board.Board at 0x236fc414410>, 2),\n",
       " (<board.Board at 0x236fc3d9100>, 2),\n",
       " (<board.Board at 0x236fc407e30>, 2),\n",
       " (<board.Board at 0x236fc406cf0>, 2),\n",
       " (<board.Board at 0x236fc3f64b0>, 2),\n",
       " (<board.Board at 0x236fc507380>, 2),\n",
       " (<board.Board at 0x236fc476f30>, 2),\n",
       " (<board.Board at 0x236fc426420>, 2),\n",
       " (<board.Board at 0x236fc412f30>, 2),\n",
       " (<board.Board at 0x236fc4d2ea0>, 2),\n",
       " (<board.Board at 0x236fc413860>, 2),\n",
       " (<board.Board at 0x236fc4d1eb0>, 2),\n",
       " (<board.Board at 0x236fc44f050>, 2),\n",
       " (<board.Board at 0x236fc44c140>, 2),\n",
       " (<board.Board at 0x236fc4546e0>, 2),\n",
       " (<board.Board at 0x236fc427200>, 2),\n",
       " (<board.Board at 0x236fc4741d0>, 2),\n",
       " (<board.Board at 0x236fc4133e0>, 2),\n",
       " (<board.Board at 0x236fc4d36b0>, 2),\n",
       " (<board.Board at 0x236fc45a990>, 2),\n",
       " (<board.Board at 0x236fc44d2b0>, 2),\n",
       " (<board.Board at 0x236fc5063c0>, 2),\n",
       " (<board.Board at 0x236fc3d8bc0>, 2)]"
      ]
     },
     "execution_count": 135,
     "metadata": {},
     "output_type": "execute_result"
    }
   ],
   "source": [
    "sorted_boards"
   ]
  }
 ],
 "metadata": {
  "kernelspec": {
   "display_name": ".venv",
   "language": "python",
   "name": "python3"
  },
  "language_info": {
   "codemirror_mode": {
    "name": "ipython",
    "version": 3
   },
   "file_extension": ".py",
   "mimetype": "text/x-python",
   "name": "python",
   "nbconvert_exporter": "python",
   "pygments_lexer": "ipython3",
   "version": "3.12.4"
  }
 },
 "nbformat": 4,
 "nbformat_minor": 2
}
