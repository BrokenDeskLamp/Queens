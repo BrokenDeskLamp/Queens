{
 "cells": [
  {
   "cell_type": "code",
   "execution_count": 35,
   "metadata": {},
   "outputs": [],
   "source": [
    "from board import Board\n",
    "from placement import generate_queen_positions\n",
    "from scorer import Scorer\n",
    "from colour import ColourSpread\n",
    "from visualisation import display_board\n",
    "\n",
    "def main(n):\n",
    "    \"\"\"Generate, fill, and evaluate an N x N board.\"\"\"\n",
    "    boards = []\n",
    "    for i in range(100):\n",
    "        if i % 10 == 0:\n",
    "            print(f\"Generating board {i}...\")\n",
    "        board = Board(n)\n",
    "        queen_positions = generate_queen_positions(n)\n",
    "        board.place_queens(queen_positions)\n",
    "        board.spread_colours(ColourSpread.random_spread)\n",
    "\n",
    "        score = Scorer.evaluate_board(board)\n",
    "        boards.append((board, score))\n",
    "\n",
    "    return sorted(boards, key=lambda x: x[1])"
   ]
  },
  {
   "cell_type": "code",
   "execution_count": 36,
   "metadata": {},
   "outputs": [
    {
     "name": "stdout",
     "output_type": "stream",
     "text": [
      "Generating board 0...\n",
      "Generating board 10...\n",
      "Generating board 20...\n",
      "Generating board 30...\n",
      "Generating board 40...\n",
      "Generating board 50...\n",
      "Generating board 60...\n",
      "Generating board 70...\n",
      "Generating board 80...\n",
      "Generating board 90...\n"
     ]
    }
   ],
   "source": [
    "sorted_boards = main(6)"
   ]
  },
  {
   "cell_type": "code",
   "execution_count": 40,
   "metadata": {},
   "outputs": [
    {
     "data": {
      "text/plain": [
       "(<board.Board at 0x236fc3a04d0>, 2)"
      ]
     },
     "execution_count": 40,
     "metadata": {},
     "output_type": "execute_result"
    }
   ],
   "source": [
    "sorted_boards[4]"
   ]
  },
  {
   "cell_type": "code",
   "execution_count": 41,
   "metadata": {},
   "outputs": [
    {
     "data": {
      "image/png": "[encoded data removed]",
      "text/plain": [
       "<Figure size 800x800 with 1 Axes>"
      ]
     },
     "metadata": {},
     "output_type": "display_data"
    }
   ],
   "source": [
    "display_board(sorted_boards[4][0].grid)"
   ]
  },
  {
   "cell_type": "code",
   "execution_count": 16,
   "metadata": {},
   "outputs": [],
   "source": [
    "from solver import QueensSolver"
   ]
  },
  {
   "cell_type": "code",
   "execution_count": 18,
   "metadata": {},
   "outputs": [
    {
     "data": {
      "text/plain": [
       "<board.Board at 0x236fb25bef0>"
      ]
     },
     "execution_count": 18,
     "metadata": {},
     "output_type": "execute_result"
    }
   ],
   "source": [
    "sorted_boards[0][0]"
   ]
  },
  {
   "cell_type": "code",
   "execution_count": 25,
   "metadata": {},
   "outputs": [],
   "source": [
    "import numpy as np\n",
    "import pulp"
   ]
  },
  {
   "cell_type": "code",
   "execution_count": 42,
   "metadata": {},
   "outputs": [],
   "source": [
    "class QueensSolver:\n",
    "    def __init__(self, queens_board: Board):\n",
    "        self.board = queens_board.grid\n",
    "        self.board_size = self.board.shape[0]\n",
    "        given_sol = np.zeros((self.board_size, self.board_size), dtype=int)\n",
    "        for queen in queens_board.queens:\n",
    "            given_sol[queen.x, queen.y] = 1\n",
    "        self.solutions = [given_sol]\n",
    "        self.solutions = []\n",
    "        self.colours = list(range(1, self.board_size + 1))\n",
    "        self.rows = self.cols = range(self.board_size)\n",
    "\n",
    "    def create_problem(self):\n",
    "        self.prob = pulp.LpProblem(\"Queens\", pulp.LpMinimize)\n",
    "        self.choices = pulp.LpVariable.dicts(name=\"Queen\", indices=(self.rows, self.cols), cat=\"Binary\")\n",
    "        self.constraints = []\n",
    "\n",
    "    def row_constraints(self):\n",
    "        return [pulp.lpSum([self.choices[r][c] for r in self.rows]) == 1 for c in self.cols]\n",
    "\n",
    "    def col_constraints(self):\n",
    "        return [pulp.lpSum([self.choices[r][c] for c in self.cols]) == 1 for r in self.rows]\n",
    "\n",
    "    def colour_constraints(self):\n",
    "        return [\n",
    "            pulp.lpSum([self.choices[i][j] for i, j in zip(*np.where(self.board == colour))]) == 1\n",
    "            for colour in self.colours\n",
    "        ]\n",
    "\n",
    "    def adjacent_indices(self):\n",
    "        return {\n",
    "            frozenset([(x, y), (x + dx, y + dy)])\n",
    "            for x in self.rows\n",
    "            for y in self.cols\n",
    "            for dx in (-1, 0, 1)\n",
    "            for dy in (-1, 0, 1)\n",
    "            if (not dx == dy == 0) and x + dx in self.rows and y + dy in self.cols\n",
    "        }\n",
    "\n",
    "    def adjacency_constraints(self):\n",
    "        return [self.choices[i][j] + self.choices[k][l] <= 1 for (i, j), (k, l) in self.adjacent_indices()]\n",
    "\n",
    "    def zero_constraints(self):\n",
    "        return [self.choices[i][j] == 0 for i in self.rows for j in self.cols if self.board[i][j] == 0]\n",
    "\n",
    "    def prev_solution_constraints(self):\n",
    "        return [\n",
    "            pulp.lpSum([sol[i][j] for i in self.rows for j in self.cols if pulp.value(sol[i][j]) == 1])\n",
    "            <= self.board_size - 1\n",
    "            for sol in self.solutions\n",
    "        ]\n",
    "\n",
    "    def solve(self, max_solutions=1):\n",
    "        self.create_problem()\n",
    "        self.constraints = (\n",
    "            self.row_constraints()\n",
    "            + self.col_constraints()\n",
    "            + self.colour_constraints()\n",
    "            + self.adjacency_constraints()\n",
    "            + self.zero_constraints()\n",
    "            + self.prev_solution_constraints()\n",
    "        )\n",
    "\n",
    "        for constraint in self.constraints:\n",
    "            self.prob += constraint\n",
    "        for _ in range(max_solutions):\n",
    "            self.prob.solve(pulp.PULP_CBC_CMD(msg=False))\n",
    "            if self.prob.status != 1:\n",
    "                break\n",
    "            self.solutions.append(np.array([[pulp.value(self.choices[i][j]) for j in self.cols] for i in self.rows]))\n",
    "            self.prob += (\n",
    "                pulp.lpSum(\n",
    "                    [self.choices[i][j] for i in self.rows for j in self.cols if pulp.value(self.choices[i][j]) == 1]\n",
    "                )\n",
    "                <= len(self.rows) - 1\n",
    "            )\n",
    "\n",
    "        self.num_solutions = len(self.solutions)"
   ]
  },
  {
   "cell_type": "code",
   "execution_count": 43,
   "metadata": {},
   "outputs": [],
   "source": [
    "solver = QueensSolver(sorted_boards[4][0])"
   ]
  },
  {
   "cell_type": "code",
   "execution_count": 44,
   "metadata": {},
   "outputs": [],
   "source": [
    "solver.solve(100)"
   ]
  },
  {
   "cell_type": "code",
   "execution_count": 45,
   "metadata": {},
   "outputs": [
    {
     "data": {
      "text/plain": [
       "[array([[0., 0., 0., 0., 0., 1.],\n",
       "        [1., 0., 0., 0., 0., 0.],\n",
       "        [0., 0., 1., 0., 0., 0.],\n",
       "        [0., 0., 0., 0., 1., 0.],\n",
       "        [0., 1., 0., 0., 0., 0.],\n",
       "        [0., 0., 0., 1., 0., 0.]]),\n",
       " array([[1., 0., 0., 0., 0., 0.],\n",
       "        [0., 0., 0., 0., 0., 1.],\n",
       "        [0., 0., 1., 0., 0., 0.],\n",
       "        [0., 0., 0., 0., 1., 0.],\n",
       "        [0., 1., 0., 0., 0., 0.],\n",
       "        [0., 0., 0., 1., 0., 0.]])]"
      ]
     },
     "execution_count": 45,
     "metadata": {},
     "output_type": "execute_result"
    }
   ],
   "source": [
    "solver.solutions"
   ]
  },
  {
   "cell_type": "code",
   "execution_count": 46,
   "metadata": {},
   "outputs": [],
   "source": [
    "test = sorted_boards[4][0]"
   ]
  },
  {
   "cell_type": "code",
   "execution_count": null,
   "metadata": {},
   "outputs": [],
   "source": [
    "import random\n",
    "\n",
    "def _backtrack(queen_placement: np.ndarray, queens_placement: np.ndarray, row: int) -> True:\n",
    "    n = queen_placement.shape[0]\n",
    "    if row >= n:\n",
    "        return True\n",
    "\n",
    "    cols = list(range(n))\n",
    "    random.shuffle(cols)\n",
    "    for col in cols:\n",
    "        if _is_valid_placement(queen_placement, grid, row, col):\n",
    "            queen_placement[row][col] = 1\n",
    "            if _backtrack(queen_placement, row + 1):\n",
    "                return True\n",
    "            queen_placement[row][col] = 0\n",
    "        print(queen_placement)\n",
    "    return False\n",
    "\n",
    "\n",
    "def _is_valid_placement(queen_placement: np.ndarray, grid: np.ndarray, row: int, col: int) -> bool:\n",
    "    colour = grid[row][col]\n",
    "    check_colour = np.sum([queen_placement[i][j] for i, j in zip(*np.where(grid == colour))]) == 0\n",
    "\n",
    "    check_queens = not (\n",
    "        queen_placement[max(row - 1, 0) : row + 2, max(col - 1, 0) : col + 2].any()\n",
    "        or queen_placement[row].any()\n",
    "        or queen_placement[:, col].any()\n",
    "    )\n",
    "\n",
    "    return check_colour and check_queens\n",
    "\n",
    "\n",
    "def unique_solution(queens_board: Board) -> bool:\n",
    "    \"\"\"Check if a board has a unique solution.\"\"\"\n",
    "    queen_placement = np.zeros((queens_board.n, queens_board.n), dtype=int)\n",
    "    for queen in queens_board.queens:\n",
    "        queen_placement[queen.x, queen.y] = 1\n",
    "\n",
    "    grid = queens_board.grid.copy()\n",
    "    found = _backtrack(queen_placement, grid, 0)\n",
    "    return queen_placement, found\n"
   ]
  },
  {
   "cell_type": "code",
   "execution_count": null,
   "metadata": {},
   "outputs": [],
   "source": [
    "def _backtrack(queens_placement: np.ndarray, grid: np.ndarray, known_solution: np.ndarray, row: int) -> True:\n",
    "    n = queens_placement.shape[0]\n",
    "    if row >= n:\n",
    "        return True\n",
    "\n",
    "    cols = list(range(n))\n",
    "    random.shuffle(cols)\n",
    "    for col in cols:\n",
    "        if _is_valid_placement(queens_placement, grid, known_solution, row, col):\n",
    "            queens_placement[row][col] = 1\n",
    "            if _backtrack(queens_placement, known_solution, grid, row + 1):\n",
    "                return True\n",
    "            queens_placement[row][col] = 0\n",
    "    return False\n",
    "\n",
    "\n",
    "def _is_valid_placement(queens_placement: np.ndarray, grid: np.ndarray, known_solution: np.ndarray, row: int, col: int) -> bool:\n",
    "    colour = grid[row][col]\n",
    "    check_colour = np.sum([queens_placement[i][j] for i, j in zip(*np.where(grid == colour))]) == 0\n",
    "\n",
    "    check_queens = not (\n",
    "        queens_placement[max(row - 1, 0) : row + 2, max(col - 1, 0) : col + 2].any()\n",
    "        or queens_placement[row].any()\n",
    "        or queens_placement[:, col].any()\n",
    "    )\n",
    "\n",
    "    new_placement = queens_placement.copy()\n",
    "    new_placement[row][col] = 1\n",
    "    check_not_known = not np.array_equal(new_placement, known_solution)\n",
    "    check_not_known = True\n",
    "\n",
    "    return check_colour and check_queens and check_not_known\n",
    "\n",
    "\n",
    "def find_solutions(queens_board: Board) -> np.array:\n",
    "    queens_placement = np.zeros((queens_board.n, queens_board.n), dtype=int)\n",
    "    known_solution = np.zeros((queens_board.n, queens_board.n), dtype=int)\n",
    "    for queen in queens_board.queens:\n",
    "        known_solution[queen.x, queen.y] = 1\n",
    "    grid = queens_board.grid.copy()\n",
    "    found = _backtrack(queens_placement, grid, known_solution, 0)\n",
    "    return queens_placement, found\n"
   ]
  },
  {
   "cell_type": "code",
   "execution_count": 68,
   "metadata": {},
   "outputs": [],
   "source": [
    "given_sol = np.zeros((test.n, test.n), dtype=int)\n",
    "for queen in test.queens:\n",
    "    given_sol[queen.x, queen.y] = 1"
   ]
  },
  {
   "cell_type": "code",
   "execution_count": 69,
   "metadata": {},
   "outputs": [
    {
     "data": {
      "text/plain": [
       "array([[1, 0, 0, 0, 0, 0],\n",
       "       [0, 0, 0, 0, 0, 1],\n",
       "       [0, 0, 1, 0, 0, 0],\n",
       "       [0, 0, 0, 0, 1, 0],\n",
       "       [0, 1, 0, 0, 0, 0],\n",
       "       [0, 0, 0, 1, 0, 0]])"
      ]
     },
     "execution_count": 69,
     "metadata": {},
     "output_type": "execute_result"
    }
   ],
   "source": [
    "given_sol"
   ]
  },
  {
   "cell_type": "code",
   "execution_count": 66,
   "metadata": {},
   "outputs": [
    {
     "data": {
      "text/plain": [
       "array([[0, 0, 0, 0, 0, 1],\n",
       "       [1, 0, 0, 0, 0, 0],\n",
       "       [0, 0, 1, 0, 0, 0],\n",
       "       [0, 0, 0, 0, 1, 0],\n",
       "       [0, 1, 0, 0, 0, 0],\n",
       "       [0, 0, 0, 1, 0, 0]])"
      ]
     },
     "execution_count": 66,
     "metadata": {},
     "output_type": "execute_result"
    }
   ],
   "source": [
    "find_solutions(test)"
   ]
  },
  {
   "cell_type": "code",
   "execution_count": 94,
   "metadata": {},
   "outputs": [
    {
     "data": {
      "text/plain": [
       "(array([[0, 0, 0, 0, 0, 0],\n",
       "        [0, 0, 0, 0, 0, 0],\n",
       "        [0, 0, 0, 0, 0, 0],\n",
       "        [0, 0, 0, 0, 0, 0],\n",
       "        [0, 0, 0, 0, 0, 0],\n",
       "        [0, 0, 0, 0, 0, 0]]),\n",
       " False)"
      ]
     },
     "execution_count": 94,
     "metadata": {},
     "output_type": "execute_result"
    }
   ],
   "source": [
    "find_solutions(test)"
   ]
  }
 ],
 "metadata": {
  "kernelspec": {
   "display_name": ".venv",
   "language": "python",
   "name": "python3"
  },
  "language_info": {
   "codemirror_mode": {
    "name": "ipython",
    "version": 3
   },
   "file_extension": ".py",
   "mimetype": "text/x-python",
   "name": "python",
   "nbconvert_exporter": "python",
   "pygments_lexer": "ipython3",
   "version": "3.12.4"
  }
 },
 "nbformat": 4,
 "nbformat_minor": 2
}
